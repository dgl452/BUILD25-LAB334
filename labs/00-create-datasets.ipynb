{
 "cells": [
  {
   "cell_type": "markdown",
   "id": "64986004",
   "metadata": {},
   "source": [
    "# Test Dataset Creation"
   ]
  },
  {
   "cell_type": "markdown",
   "id": "beaf8fd0",
   "metadata": {},
   "source": [
    "---\n",
    "\n",
    "## Option 1: Manual Creation\n",
    "\n",
    "You can create a dataset manually, using your understanding of application requirements - or potentially reusing actual user queries from your application deployment. For example, here is a sample dataset we can use for apps like Contoso Chat:\n",
    "\n",
    "```json\n",
    "{\"query\": \"Which tent is the most waterproof?\", \"truth\": \"The Alpine Explorer Tent has the highest rainfly waterproof rating at 3000m\"}\n",
    "{\"query\": \"Which camping table holds the most weight?\", \"truth\": \"The Adventure Dining Table has a higher weight capacity than all of the other camping tables mentioned\"}\n",
    "{\"query\": \"How much do the TrailWalker Hiking Shoes cost? \", \"truth\": \"The Trailewalker Hiking Shoes are priced at $110\"}\n",
    "{\"query\": \"What is the proper care for trailwalker hiking shoes? \", \"truth\": \"After each use, remove any dirt or debris by brushing or wiping the shoes with a damp cloth.\"}\n",
    "{\"query\": \"What brand is TrailMaster tent? \", \"truth\": \"OutdoorLiving\"}\n",
    "{\"query\": \"How do I carry the TrailMaster tent around? \", \"truth\": \" Carry bag included for convenient storage and transportation\"}\n",
    "{\"query\": \"What is the floor area for Floor Area? \", \"truth\": \"80 square feet\"}\n",
    "{\"query\": \"What is the material for TrailBlaze Hiking Pants?\", \"truth\": \"Made of high-quality nylon fabric\"}\n",
    "{\"query\": \"What color does TrailBlaze Hiking Pants come in?\", \"truth\": \"Khaki\"}\n",
    "{\"query\": \"Can the warrenty for TrailBlaze pants be transfered? \", \"truth\": \"The warranty is non-transferable and applies only to the original purchaser of the TrailBlaze Hiking Pants. It is valid only when the product is purchased from an authorized retailer.\"}\n",
    "{\"query\": \"How long are the TrailBlaze pants under warranty for? \", \"truth\": \" The TrailBlaze Hiking Pants are backed by a 1-year limited warranty from the date of purchase.\"}\n",
    "{\"query\": \"What is the material for PowerBurner Camping Stove? \", \"truth\": \"Stainless Steel\"}\n",
    "{\"query\": \"Is France in Europe?\", \"truth\": \"Sorry, I can only queries related to outdoor/camping gear and equipment\"}\n",
    "```"
   ]
  },
  {
   "cell_type": "markdown",
   "id": "7c69c2bf",
   "metadata": {},
   "source": [
    "---\n",
    "\n",
    "## Option 2: Simulator\n",
    "\n",
    "The Azure AI Evaluation SDK also provides a [Simulator](https://learn.microsoft.com/en-us/python/api/overview/azure/ai-evaluation-readme?view=azure-python#simulator) that can help you generate test data for your evaluations. This is useful if you want to create a large dataset quickly for a specific scenario - some examples include:\n",
    " - Generate from input text prompts\n",
    " - Generate from a conversation starter\n",
    " - Generate from a search index\n",
    "\n",
    "The simulator can also generate **adversarial** datasets that specifically test the model's ability to handle prompt-based attacks. \n",
    "\n",
    "We will cover simulators in a later lab."
   ]
  }
 ],
 "metadata": {
  "language_info": {
   "name": "python"
  }
 },
 "nbformat": 4,
 "nbformat_minor": 5
}
