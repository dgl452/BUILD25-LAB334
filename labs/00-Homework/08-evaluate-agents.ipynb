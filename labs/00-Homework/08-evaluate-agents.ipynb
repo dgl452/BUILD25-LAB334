{
 "cells": [
  {
   "cell_type": "markdown",
   "id": "f8e151f7",
   "metadata": {},
   "source": [
    "# Lab 08: Explore Evaluation For AI Agents\n",
    "\n",
    "By the end of this lab, you will know:"
   ]
  }
 ],
 "metadata": {
  "language_info": {
   "name": "python"
  }
 },
 "nbformat": 4,
 "nbformat_minor": 5
}
