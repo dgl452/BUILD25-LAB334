{
 "cells": [
  {
   "cell_type": "markdown",
   "id": "d5ce0cd9",
   "metadata": {},
   "source": [
    "# Lab 07: Explore Evaluation of App \"Target\"\n",
    "\n",
    "By the end of this lab, you will know:"
   ]
  }
 ],
 "metadata": {
  "language_info": {
   "name": "python"
  }
 },
 "nbformat": 4,
 "nbformat_minor": 5
}
